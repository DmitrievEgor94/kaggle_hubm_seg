{
 "cells": [
  {
   "cell_type": "code",
   "execution_count": 8,
   "metadata": {},
   "outputs": [],
   "source": [
    "import os\n",
    "import pandas as pd\n",
    "import json"
   ]
  },
  {
   "cell_type": "code",
   "execution_count": 9,
   "metadata": {},
   "outputs": [],
   "source": [
    "import yaml\n",
    "with open('config.yaml') as f:\n",
    "    config = yaml.load(f, Loader=yaml.FullLoader)"
   ]
  },
  {
   "cell_type": "code",
   "execution_count": 10,
   "metadata": {},
   "outputs": [],
   "source": [
    "os.environ['KAGGLE_USERNAME'] = config['kaggle']['username']\n",
    "os.environ['KAGGLE_KEY'] = config['kaggle']['key']\n",
    "os.environ['KAGGLE_PROXY'] = config['kaggle']['proxy']\n",
    "os.environ['https_proxy'] = config['proxy']\n",
    "os.environ['http_proxy'] = config['proxy']\n",
    "os.environ['CURL_CA_BUNDLE']=\"\""
   ]
  },
  {
   "cell_type": "markdown",
   "metadata": {},
   "source": [
    "## Создание датасета c модельками"
   ]
  },
  {
   "cell_type": "code",
   "execution_count": 18,
   "metadata": {},
   "outputs": [
    {
     "name": "stdout",
     "output_type": "stream",
     "text": [
      "Data package template written to: model/dataset-metadata.json\n"
     ]
    }
   ],
   "source": [
    "# Нужно для создания датасета под модель\n",
    "!kaggle datasets init -p model"
   ]
  },
  {
   "cell_type": "raw",
   "metadata": {},
   "source": [
    "Затем в папку нужно перенести данные"
   ]
  },
  {
   "cell_type": "code",
   "execution_count": 33,
   "metadata": {},
   "outputs": [],
   "source": [
    "dat_json = json.load(open('model/dataset-metadata.json','r'))\n",
    "dat_json['title'] = 'hubmap_models'\n",
    "dat_json['id'] = 'dmitrievegor94/111111'"
   ]
  },
  {
   "cell_type": "code",
   "execution_count": 34,
   "metadata": {},
   "outputs": [],
   "source": [
    "json.dump(dat_json,open('model/dataset-metadata.json','w'))"
   ]
  },
  {
   "cell_type": "code",
   "execution_count": 35,
   "metadata": {},
   "outputs": [
    {
     "name": "stdout",
     "output_type": "stream",
     "text": [
      "Skipping folder: .ipynb_checkpoints; use '--dir-mode' to upload folders\n",
      "Starting upload for file eff_net8.bin\n",
      "/data/edmitrie/models/kaggle/kaggle_env/lib64/python3.6/site-packages/urllib3/connectionpool.py:1020: InsecureRequestWarning: Unverified HTTPS request is being made to host 'msk-proxy.megafon.ru'. Adding certificate verification is strongly advised. See: https://urllib3.readthedocs.io/en/latest/advanced-usage.html#ssl-warnings\n",
      "  InsecureRequestWarning,\n",
      "  0%|                                                | 0.00/338M [00:00<?, ?B/s]/data/edmitrie/models/kaggle/kaggle_env/lib64/python3.6/site-packages/urllib3/connectionpool.py:1020: InsecureRequestWarning: Unverified HTTPS request is being made to host 'msk-proxy.megafon.ru'. Adding certificate verification is strongly advised. See: https://urllib3.readthedocs.io/en/latest/advanced-usage.html#ssl-warnings\n",
      "  InsecureRequestWarning,\n",
      "100%|████████████████████████████████████████| 338M/338M [00:27<00:00, 13.1MB/s]\n",
      "Upload successful: eff_net8.bin (338MB)\n",
      "/data/edmitrie/models/kaggle/kaggle_env/lib64/python3.6/site-packages/urllib3/connectionpool.py:1020: InsecureRequestWarning: Unverified HTTPS request is being made to host 'msk-proxy.megafon.ru'. Adding certificate verification is strongly advised. See: https://urllib3.readthedocs.io/en/latest/advanced-usage.html#ssl-warnings\n",
      "  InsecureRequestWarning,\n",
      "Your private Dataset is being created. Please check progress at https://www.kaggle.com/dmitrievegor94/111111\n"
     ]
    }
   ],
   "source": [
    "!kaggle datasets create -p model"
   ]
  },
  {
   "cell_type": "markdown",
   "metadata": {},
   "source": [
    "## Создание кернела"
   ]
  },
  {
   "cell_type": "code",
   "execution_count": 25,
   "metadata": {},
   "outputs": [
    {
     "name": "stdout",
     "output_type": "stream",
     "text": [
      "Kernel metadata template written to: submit_kernel/kernel-metadata.json\n"
     ]
    }
   ],
   "source": [
    "#для создания ядра кэгла\n",
    "!kaggle kernels init -p submit_kernel"
   ]
  },
  {
   "cell_type": "code",
   "execution_count": 55,
   "metadata": {},
   "outputs": [],
   "source": [
    "kaggle_kernel_dict = json.load(open('submit_kernel/kernel-metadata.json','r'))"
   ]
  },
  {
   "cell_type": "code",
   "execution_count": 63,
   "metadata": {},
   "outputs": [
    {
     "data": {
      "text/plain": [
       "{'id': 'dmitrievegor94/111111',\n",
       " 'title': 'hubmap_submission',\n",
       " 'code_file': '../eda.ipynb',\n",
       " 'language': 'python',\n",
       " 'kernel_type': 'notebook',\n",
       " 'is_private': 'true',\n",
       " 'enable_gpu': 'true',\n",
       " 'enable_internet': 'false',\n",
       " 'dataset_sources': ['dmitrievegor94/111111'],\n",
       " 'competition_sources': [],\n",
       " 'kernel_sources': []}"
      ]
     },
     "execution_count": 63,
     "metadata": {},
     "output_type": "execute_result"
    }
   ],
   "source": [
    "kaggle_kernel_dict"
   ]
  },
  {
   "cell_type": "code",
   "execution_count": 78,
   "metadata": {},
   "outputs": [],
   "source": [
    "title = 'hubmap-submission'"
   ]
  },
  {
   "cell_type": "code",
   "execution_count": 65,
   "metadata": {},
   "outputs": [],
   "source": [
    "kaggle_kernel_dict['dataset_sources'] = ['dmitrievegor94/111111']"
   ]
  },
  {
   "cell_type": "code",
   "execution_count": 66,
   "metadata": {},
   "outputs": [],
   "source": [
    "kaggle_kernel_dict['id'] = f'dmitrievegor94/111111'"
   ]
  },
  {
   "cell_type": "code",
   "execution_count": 67,
   "metadata": {},
   "outputs": [],
   "source": [
    "kaggle_kernel_dict['competition_sources'] = ['hubmap-kidney-segmentation']"
   ]
  },
  {
   "cell_type": "code",
   "execution_count": 68,
   "metadata": {},
   "outputs": [],
   "source": [
    "kaggle_kernel_dict['enable_internet'] = 'false'\n",
    "kaggle_kernel_dict['enable_gpu'] = 'true'\n",
    "kaggle_kernel_dict['title'] = title\n",
    "kaggle_kernel_dict['code_file'] = '../eda.ipynb'\n",
    "kaggle_kernel_dict['language'] = 'python'\n",
    "kaggle_kernel_dict['kernel_type'] = 'notebook'"
   ]
  },
  {
   "cell_type": "code",
   "execution_count": 70,
   "metadata": {},
   "outputs": [],
   "source": [
    "json.dump(kaggle_kernel_dict, open('submit_kernel/kernel-metadata.json', 'w'))"
   ]
  },
  {
   "cell_type": "code",
   "execution_count": 72,
   "metadata": {},
   "outputs": [
    {
     "name": "stdout",
     "output_type": "stream",
     "text": [
      "Your kernel title does not resolve to the specified id. This may result in surprising behavior. We suggest making your title something that resolves to the specified id. See https://en.wikipedia.org/wiki/Clean_URL#Slug for more information on how slugs are determined.\n",
      "/data/edmitrie/models/kaggle/kaggle_env/lib64/python3.6/site-packages/urllib3/connectionpool.py:1020: InsecureRequestWarning: Unverified HTTPS request is being made to host 'msk-proxy.megafon.ru'. Adding certificate verification is strongly advised. See: https://urllib3.readthedocs.io/en/latest/advanced-usage.html#ssl-warnings\n",
      "  InsecureRequestWarning,\n",
      "Kernel version 1 successfully pushed.  Please check progress at https://www.kaggle.com/dmitrievegor94/hubmap-submission\n"
     ]
    }
   ],
   "source": [
    "!kaggle kernels push -p submit_kernel/"
   ]
  },
  {
   "cell_type": "code",
   "execution_count": 73,
   "metadata": {},
   "outputs": [],
   "source": [
    "os.remove('submit_kernel/kernel-metadata.json')"
   ]
  },
  {
   "cell_type": "code",
   "execution_count": 79,
   "metadata": {},
   "outputs": [
    {
     "name": "stdout",
     "output_type": "stream",
     "text": [
      "/data/edmitrie/models/kaggle/kaggle_env/lib64/python3.6/site-packages/urllib3/connectionpool.py:1020: InsecureRequestWarning: Unverified HTTPS request is being made to host 'msk-proxy.megafon.ru'. Adding certificate verification is strongly advised. See: https://urllib3.readthedocs.io/en/latest/advanced-usage.html#ssl-warnings\n",
      "  InsecureRequestWarning,\n",
      "Source code and metadata downloaded to submit_kernel\n"
     ]
    }
   ],
   "source": [
    "!kaggle kernels pull dmitrievegor94/{title} -p submit_kernel -m"
   ]
  }
 ],
 "metadata": {
  "kernelspec": {
   "display_name": "kaggle_env",
   "language": "python",
   "name": "kaggle_env"
  },
  "language_info": {
   "codemirror_mode": {
    "name": "ipython",
    "version": 3
   },
   "file_extension": ".py",
   "mimetype": "text/x-python",
   "name": "python",
   "nbconvert_exporter": "python",
   "pygments_lexer": "ipython3",
   "version": "3.6.8"
  }
 },
 "nbformat": 4,
 "nbformat_minor": 4
}
