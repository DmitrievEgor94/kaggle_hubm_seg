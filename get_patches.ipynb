{
 "cells": [
  {
   "cell_type": "code",
   "execution_count": 28,
   "metadata": {},
   "outputs": [],
   "source": [
    "import numpy as np\n",
    "import pandas as pd\n",
    "import matplotlib.pyplot as plt\n",
    "from PIL import Image\n",
    "import tifffile as tiff\n",
    "import cv2\n",
    "import os\n",
    "import torch\n",
    "from tqdm.notebook import tqdm"
   ]
  },
  {
   "cell_type": "code",
   "execution_count": 2,
   "metadata": {},
   "outputs": [],
   "source": [
    "df_masks = pd.read_csv('train.csv')"
   ]
  },
  {
   "cell_type": "code",
   "execution_count": 52,
   "metadata": {},
   "outputs": [],
   "source": [
    "def enc2mask(encs, shape):\n",
    "    img = np.zeros(shape[0]*shape[1], dtype=np.uint8)\n",
    "    s = encs.split()\n",
    "    \n",
    "    for i in range(len(s)//2):\n",
    "        start = int(s[2*i]) - 1\n",
    "        length = int(s[2*i+1])\n",
    "        img[start:start+length] = 1\n",
    "        \n",
    "    return img.reshape(shape).T"
   ]
  },
  {
   "cell_type": "code",
   "execution_count": 72,
   "metadata": {},
   "outputs": [],
   "source": [
    "from datetime import datetime"
   ]
  },
  {
   "cell_type": "code",
   "execution_count": 77,
   "metadata": {},
   "outputs": [],
   "source": [
    "date_now = datetime.now()"
   ]
  },
  {
   "cell_type": "code",
   "execution_count": 86,
   "metadata": {},
   "outputs": [],
   "source": [
    "reduce = 1  #тесты с уменьшением размерности\n",
    "MASKS = '../input/hubmap-kidney-segmentation/train.csv'\n",
    "DATA = 'train/'\n",
    "OUTPUT = f'tiles_ready/tiles_{date_now.month}m_{date_now.day}d_{date_now.hour}h'"
   ]
  },
  {
   "cell_type": "code",
   "execution_count": 91,
   "metadata": {},
   "outputs": [],
   "source": [
    "hyper_params = {\n",
    "    'tile_size':1024,\n",
    "    'stride':1024\n",
    "}"
   ]
  },
  {
   "cell_type": "code",
   "execution_count": 92,
   "metadata": {},
   "outputs": [],
   "source": [
    "import os"
   ]
  },
  {
   "cell_type": "code",
   "execution_count": 95,
   "metadata": {},
   "outputs": [],
   "source": [
    "os.makedirs(f'{OUTPUT}/imgs', exist_ok=True)\n",
    "os.makedirs(f'{OUTPUT}/masks', exist_ok=True)"
   ]
  },
  {
   "cell_type": "code",
   "execution_count": 101,
   "metadata": {},
   "outputs": [
    {
     "data": {
      "application/vnd.jupyter.widget-view+json": {
       "model_id": "f3da7528e88a4f629022538e90fbdba9",
       "version_major": 2,
       "version_minor": 0
      },
      "text/plain": [
       "  0%|          | 0/8 [00:00<?, ?it/s]"
      ]
     },
     "metadata": {},
     "output_type": "display_data"
    }
   ],
   "source": [
    "s_th = 40  #saturation blancking threshold\n",
    "p_th = 200*sz//256 #threshold for the minimum number of pixels\n",
    "\n",
    "x_tot, x2_tot = [], []\n",
    "\n",
    "img_patches = []\n",
    "mask_patches = []\n",
    "\n",
    "for _, row in tqdm(df_masks.iterrows(), total=len(df_masks)):\n",
    "    index, encs = row\n",
    "    \n",
    "    img = tiff.imread(os.path.join(DATA, index+'.tiff'))\n",
    "    if len(img.shape) == 5: img = np.transpose(img.squeeze(), (1,2,0))\n",
    "    mask = enc2mask(encs,(img.shape[1],img.shape[0]))\n",
    "\n",
    "    shape = img.shape\n",
    "    pad0 = (reduce*sz - shape[0]%(reduce*sz))%(reduce*sz)\n",
    "    pad1 = (reduce*sz - shape[1]%(reduce*sz))%(reduce*sz)\n",
    "        \n",
    "    img = np.pad(img,[[pad0//2,pad0-pad0//2],[pad1//2,pad1-pad1//2],[0,0]],\n",
    "                constant_values=0)\n",
    "    mask = np.pad(mask,[[pad0//2,pad0-pad0//2],[pad1//2,pad1-pad1//2]],\n",
    "                constant_values=0)\n",
    "        \n",
    "    img = torch.tensor(img).unfold(0, sz, stride).unfold(1, sz, stride)\n",
    "    mask = torch.tensor(mask).unfold(0, sz, stride).unfold(1, sz, stride)\n",
    "\n",
    "    img = img.reshape(img.shape[0]*img.shape[1], *img.shape[2:])\n",
    "    mask = mask.reshape(mask.shape[0]*mask.shape[1], *mask.shape[2:])\n",
    "    \n",
    "    img = img.detach().numpy()\n",
    "    mask = mask.detach().numpy()\n",
    "    \n",
    "    img = np.transpose(img, (0, 2, 3, 1))\n",
    "        \n",
    "    for i,(im,m) in enumerate(zip(img,mask)):                \n",
    "        hsv = cv2.cvtColor(im, cv2.COLOR_BGR2HSV)\n",
    "        h, s, v = cv2.split(hsv)\n",
    "        if (s>s_th).sum() <= p_th or im.sum() <= p_th: continue\n",
    "\n",
    "#         x_tot.append((im/255.0).reshape(-1,3).mean(0))\n",
    "#         x2_tot.append(((im/255.0)**2).reshape(-1,3).mean(0))\n",
    "#         plt.imshow(im)\n",
    "#         break\n",
    "#         im = cv2.imencode('.png',cv2.cvtColor(im, cv2.COLOR_RGB2BGR))[1]\n",
    "        \n",
    "#         print(f'{OUTPUT}/imgs/{index}_{i}.png', f'{OUTPUT}/masks/{index}_{i}.png')\n",
    "\n",
    "        cv2.imwrite(f'{OUTPUT}/imgs/{index}_{i}.png', im)\n",
    "        \n",
    "        cv2.imwrite(f'{OUTPUT}/masks/{index}_{i}.png', m)"
   ]
  },
  {
   "cell_type": "code",
   "execution_count": null,
   "metadata": {},
   "outputs": [],
   "source": []
  }
 ],
 "metadata": {
  "kernelspec": {
   "display_name": "kaggle_env",
   "language": "python",
   "name": "kaggle_env"
  },
  "language_info": {
   "codemirror_mode": {
    "name": "ipython",
    "version": 3
   },
   "file_extension": ".py",
   "mimetype": "text/x-python",
   "name": "python",
   "nbconvert_exporter": "python",
   "pygments_lexer": "ipython3",
   "version": "3.6.8"
  }
 },
 "nbformat": 4,
 "nbformat_minor": 4
}
