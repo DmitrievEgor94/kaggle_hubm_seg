{
 "cells": [
  {
   "cell_type": "code",
   "execution_count": 3,
   "metadata": {},
   "outputs": [],
   "source": [
    "# import segmentation_models_pytorch as smp\n",
    "import torch\n",
    "import tifffile as tiff\n",
    "import os\n",
    "import numpy as np\n",
    "\n",
    "from torch import nn"
   ]
  },
  {
   "cell_type": "code",
   "execution_count": 4,
   "metadata": {},
   "outputs": [],
   "source": [
    "device = 'cuda'"
   ]
  },
  {
   "cell_type": "code",
   "execution_count": 5,
   "metadata": {},
   "outputs": [],
   "source": [
    "model = nn.DataParallel(torch.load('model/eff_net8.bin'))"
   ]
  },
  {
   "cell_type": "code",
   "execution_count": 6,
   "metadata": {},
   "outputs": [],
   "source": [
    "model = model.eval()"
   ]
  },
  {
   "cell_type": "code",
   "execution_count": 7,
   "metadata": {},
   "outputs": [],
   "source": [
    "imgs = [os.path.join('test', file) for file in os.listdir('test') if 'tiff' in file]"
   ]
  },
  {
   "cell_type": "code",
   "execution_count": 8,
   "metadata": {},
   "outputs": [],
   "source": [
    "img = tiff.imread(imgs[1])"
   ]
  },
  {
   "cell_type": "code",
   "execution_count": 9,
   "metadata": {},
   "outputs": [
    {
     "data": {
      "text/plain": [
       "(36800, 43780, 3)"
      ]
     },
     "execution_count": 9,
     "metadata": {},
     "output_type": "execute_result"
    }
   ],
   "source": [
    "img.shape"
   ]
  },
  {
   "cell_type": "code",
   "execution_count": 10,
   "metadata": {},
   "outputs": [],
   "source": [
    "import time"
   ]
  },
  {
   "cell_type": "code",
   "execution_count": 11,
   "metadata": {},
   "outputs": [],
   "source": [
    "def inference(img_array, patch_shape=(1024, 1024), batches_num=1, device='cpu'):\n",
    "    img = img_array\n",
    "    img = np.transpose(img.squeeze(), (1,2,0)) if len(img.shape) == 5 else img.transpose(2, 1, 0)\n",
    "    \n",
    "    mask = torch.tensor(np.zeros(img.shape[1:]), device=device, dtype=torch.float)\n",
    "    \n",
    "    batch_patch = torch.empty(batches_num, 3, *patch_shape, device=device)\n",
    "        \n",
    "    for i in range(img.shape[1]//patch_shape[0]):\n",
    "        for j in range(img.shape[2]//patch_shape[1]):\n",
    "            slice_row, slice_col = slice(i*patch_shape[0], (i+1)*patch_shape[0]), slice(j*patch_shape[1], (j+1)*patch_shape[1])            \n",
    "            \n",
    "            patch = img[:, slice_row, slice_col]\n",
    "            \n",
    "            patch = torch.tensor(patch, device=device, dtype=torch.float)\n",
    "            # (batch, channels, height, width)\n",
    "            \n",
    "            patch_real_shape = patch.shape\n",
    "                \n",
    "            batch_patch[0] = patch\n",
    "                                    \n",
    "            with torch.no_grad():\n",
    "                output = model(batch_patch)\n",
    "                \n",
    "                mask[slice_row, slice_col] = output[0, 0, :patch_real_shape[1], :patch_real_shape[2]]\n",
    "                torch.cuda.empty_cache()\n",
    "    \n",
    "    return mask"
   ]
  },
  {
   "cell_type": "code",
   "execution_count": null,
   "metadata": {},
   "outputs": [],
   "source": []
  }
 ],
 "metadata": {
  "kernelspec": {
   "display_name": "kaggle_env",
   "language": "python",
   "name": "kaggle_env"
  },
  "language_info": {
   "codemirror_mode": {
    "name": "ipython",
    "version": 3
   },
   "file_extension": ".py",
   "mimetype": "text/x-python",
   "name": "python",
   "nbconvert_exporter": "python",
   "pygments_lexer": "ipython3",
   "version": "3.6.8"
  }
 },
 "nbformat": 4,
 "nbformat_minor": 4
}
